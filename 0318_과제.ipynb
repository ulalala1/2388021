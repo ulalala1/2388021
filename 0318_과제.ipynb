{
  "nbformat": 4,
  "nbformat_minor": 0,
  "metadata": {
    "colab": {
      "provenance": [],
      "authorship_tag": "ABX9TyPpQCGRDEFGUFdf9UJGTbll",
      "include_colab_link": true
    },
    "kernelspec": {
      "name": "python3",
      "display_name": "Python 3"
    },
    "language_info": {
      "name": "python"
    }
  },
  "cells": [
    {
      "cell_type": "markdown",
      "metadata": {
        "id": "view-in-github",
        "colab_type": "text"
      },
      "source": [
        "<a href=\"https://colab.research.google.com/github/ulalala1/2388021/blob/main/0318_%EA%B3%BC%EC%A0%9C.ipynb\" target=\"_parent\"><img src=\"https://colab.research.google.com/assets/colab-badge.svg\" alt=\"Open In Colab\"/></a>"
      ]
    },
    {
      "cell_type": "code",
      "execution_count": 2,
      "metadata": {
        "colab": {
          "base_uri": "https://localhost:8080/"
        },
        "id": "IbsOttHUlWsr",
        "outputId": "b2bdb334-440b-484b-adcf-bd976a50f0e4"
      },
      "outputs": [
        {
          "output_type": "stream",
          "name": "stdout",
          "text": [
            "b'<?xml version=\"1.0\" encoding=\"UTF-8\"?>\\r\\n<rss>\\r\\n  <header>\\r\\n    <resultCode><![CDATA[00]]></resultCode>\\r\\n    <resultMsg><![CDATA[NORMAL SERVICE]]></resultMsg>\\r\\n    <totalCount>1</totalCount>\\r\\n    <pageIndex>1</pageIndex>\\r\\n    <pageUnit>20</pageUnit>\\r\\n    <searchCondition><![CDATA[emd]]></searchCondition>\\r\\n    <searchKeyword><![CDATA[\\xec\\xa1\\xb0\\xec\\xb9\\x98\\xec\\x9b\\x90\\xec\\x9d\\x8d]]></searchKeyword>\\r\\n  </header>\\r\\n  <body>\\r\\n    <items>\\r\\n      <item>\\r\\n        <emd><![CDATA[\\xec\\xa1\\xb0\\xec\\xb9\\x98\\xec\\x9b\\x90\\xec\\x9d\\x8d]]></emd>\\r\\n        <regStleItrdecoRfid><![CDATA[787]]></regStleItrdecoRfid>\\r\\n        <regStleExtrrRfid><![CDATA[815]]></regStleExtrrRfid>\\r\\n        <regStleRecog><![CDATA[404]]></regStleRecog>\\r\\n        <spciesCo><![CDATA[58]]></spciesCo>\\r\\n        <ownrCo><![CDATA[1441]]></ownrCo>\\r\\n        <animalCo><![CDATA[2006]]></animalCo>\\r\\n        <ownrAnimalRegCo><![CDATA[1.39]]></ownrAnimalRegCo>\\r\\n        <crtrYmd><![CDATA[2020-12-10]]></crtrYmd>\\r\\n      </item>\\r\\n    </items>\\r\\n  </body>\\r\\n</rss>\\r\\n'\n"
          ]
        }
      ],
      "source": [
        "import requests\n",
        "from bs4 import BeautifulSoup\n",
        "\n",
        "url = 'http://apis.data.go.kr/5690000/sjPetRegiStat/sj_00000380'\n",
        "params ={'serviceKey' : 'qoW658mZAucRMS1Kb8motiyoUns3QxpISLLDZhbXDv5fM9+Rqkoo+gkUGTtubAjAQXYkU4wH/vZl1ZWCao5XYw==', 'pageIndex' : '1', 'pageUnit' : '20', 'dataTy' : 'xml', 'searchCondition' : 'emd', 'searchKeyword' : '조치원읍' }\n",
        "\n",
        "response = requests.get(url, params=params)\n",
        "print(response.content)\n"
      ]
    },
    {
      "cell_type": "code",
      "source": [
        "soup = BeautifulSoup(response.content, features=\"xml\")"
      ],
      "metadata": {
        "id": "iTq4gvO1mZSn"
      },
      "execution_count": 3,
      "outputs": []
    },
    {
      "cell_type": "code",
      "source": [
        "soup.find_all(\"crtrYmd\")"
      ],
      "metadata": {
        "colab": {
          "base_uri": "https://localhost:8080/"
        },
        "id": "ZbLwFkoOmgKt",
        "outputId": "b0f17ba9-8d09-4780-ed8f-1892aafa4f91"
      },
      "execution_count": 4,
      "outputs": [
        {
          "output_type": "execute_result",
          "data": {
            "text/plain": [
              "[<crtrYmd>2020-12-10</crtrYmd>]"
            ]
          },
          "metadata": {},
          "execution_count": 4
        }
      ]
    }
  ]
}