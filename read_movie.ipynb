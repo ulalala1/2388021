{
  "nbformat": 4,
  "nbformat_minor": 0,
  "metadata": {
    "colab": {
      "provenance": [],
      "authorship_tag": "ABX9TyMJjc8whHak13wIwMCNrAqK",
      "include_colab_link": true
    },
    "kernelspec": {
      "name": "python3",
      "display_name": "Python 3"
    },
    "language_info": {
      "name": "python"
    }
  },
  "cells": [
    {
      "cell_type": "markdown",
      "metadata": {
        "id": "view-in-github",
        "colab_type": "text"
      },
      "source": [
        "<a href=\"https://colab.research.google.com/github/ulalala1/2388021/blob/main/read_movie.ipynb\" target=\"_parent\"><img src=\"https://colab.research.google.com/assets/colab-badge.svg\" alt=\"Open In Colab\"/></a>"
      ]
    },
    {
      "cell_type": "code",
      "execution_count": 1,
      "metadata": {
        "id": "t1k3Ma-hQl6G",
        "colab": {
          "base_uri": "https://localhost:8080/"
        },
        "outputId": "a529258d-8bab-41d6-958c-8946df68bb03"
      },
      "outputs": [
        {
          "output_type": "stream",
          "name": "stdout",
          "text": [
            "<?xml version=\"1.0\" encoding=\"utf-8\" standalone=\"yes\"?><boxOfficeResult><boxofficeType>일별 박스오피스</boxofficeType><showRange>20240311~20240311</showRange><dailyBoxOfficeList><dailyBoxOffice><rnum>1</rnum><rank>1</rank><rankInten>0</rankInten><rankOldAndNew>OLD</rankOldAndNew><movieCd>20234675</movieCd><movieNm>파묘</movieNm><openDt>2024-02-22</openDt><salesAmt>1288651730</salesAmt><salesShare>67.0</salesShare><salesInten>-3368875818</salesInten><salesChange>-72.3</salesChange><salesAcc>78794424205</salesAcc><audiCnt>135263</audiCnt><audiInten>-337025</audiInten><audiChange>-71.4</audiChange><audiAcc>8177206</audiAcc><scrnCnt>1940</scrnCnt><showCnt>7450</showCnt></dailyBoxOffice><dailyBoxOffice><rnum>2</rnum><rank>2</rank><rankInten>0</rankInten><rankOldAndNew>OLD</rankOldAndNew><movieCd>20236295</movieCd><movieNm>듄: 파트2</movieNm><openDt>2024-02-28</openDt><salesAmt>379600728</salesAmt><salesShare>19.7</salesShare><salesInten>-870089908</salesInten><salesChange>-69.6</salesChange><salesAcc>14902368861</salesAcc><audiCnt>31246</audiCnt><audiInten>-75512</audiInten><audiChange>-70.7</audiChange><audiAcc>1313924</audiAcc><scrnCnt>935</scrnCnt><showCnt>2449</showCnt></dailyBoxOffice><dailyBoxOffice><rnum>3</rnum><rank>3</rank><rankInten>2</rankInten><rankOldAndNew>OLD</rankOldAndNew><movieCd>20236732</movieCd><movieNm>가여운 것들</movieNm><openDt>2024-03-06</openDt><salesAmt>66823863</salesAmt><salesShare>3.5</salesShare><salesInten>-69010101</salesInten><salesChange>-50.8</salesChange><salesAcc>718850322</salesAcc><audiCnt>6890</audiCnt><audiInten>-6561</audiInten><audiChange>-48.8</audiChange><audiAcc>72311</audiAcc><scrnCnt>428</scrnCnt><showCnt>744</showCnt></dailyBoxOffice><dailyBoxOffice><rnum>4</rnum><rank>4</rank><rankInten>2</rankInten><rankOldAndNew>OLD</rankOldAndNew><movieCd>20234789</movieCd><movieNm>패스트 라이브즈</movieNm><openDt>2024-03-06</openDt><salesAmt>49524451</salesAmt><salesShare>2.6</salesShare><salesInten>-50566678</salesInten><salesChange>-50.5</salesChange><salesAcc>541856267</salesAcc><audiCnt>5680</audiCnt><audiInten>-5416</audiInten><audiChange>-48.8</audiChange><audiAcc>60777</audiAcc><scrnCnt>551</scrnCnt><showCnt>945</showCnt></dailyBoxOffice><dailyBoxOffice><rnum>5</rnum><rank>5</rank><rankInten>-2</rankInten><rankOldAndNew>OLD</rankOldAndNew><movieCd>20236180</movieCd><movieNm>웡카</movieNm><openDt>2024-01-31</openDt><salesAmt>44070291</salesAmt><salesShare>2.3</salesShare><salesInten>-292069065</salesInten><salesChange>-86.9</salesChange><salesAcc>32802006161</salesAcc><audiCnt>4535</audiCnt><audiInten>-30735</audiInten><audiChange>-87.1</audiChange><audiAcc>3411408</audiAcc><scrnCnt>505</scrnCnt><showCnt>775</showCnt></dailyBoxOffice><dailyBoxOffice><rnum>6</rnum><rank>6</rank><rankInten>1</rankInten><rankOldAndNew>OLD</rankOldAndNew><movieCd>20247074</movieCd><movieNm>건국전쟁</movieNm><openDt>2024-02-01</openDt><salesAmt>29881300</salesAmt><salesShare>1.6</salesShare><salesInten>-41474785</salesInten><salesChange>-58.1</salesChange><salesAcc>10648481247</salesAcc><audiCnt>3401</audiCnt><audiInten>-4321</audiInten><audiChange>-56</audiChange><audiAcc>1144476</audiAcc><scrnCnt>375</scrnCnt><showCnt>477</showCnt></dailyBoxOffice><dailyBoxOffice><rnum>7</rnum><rank>7</rank><rankInten>1</rankInten><rankOldAndNew>OLD</rankOldAndNew><movieCd>20247076</movieCd><movieNm>귀멸의 칼날: 인연의 기적, 그리고 합동 강화 훈련으로</movieNm><openDt>2024-02-14</openDt><salesAmt>12300000</salesAmt><salesShare>0.6</salesShare><salesInten>-33449400</salesInten><salesChange>-73.1</salesChange><salesAcc>5454960700</salesAcc><audiCnt>1212</audiCnt><audiInten>-3144</audiInten><audiChange>-72.2</audiChange><audiAcc>480886</audiAcc><scrnCnt>161</scrnCnt><showCnt>227</showCnt></dailyBoxOffice><dailyBoxOffice><rnum>8</rnum><rank>8</rank><rankInten>10</rankInten><rankOldAndNew>OLD</rankOldAndNew><movieCd>20247219</movieCd><movieNm>사운드 오브 프리덤</movieNm><openDt>2024-02-21</openDt><salesAmt>5395500</salesAmt><salesShare>0.3</salesShare><salesInten>-1009200</salesInten><salesChange>-15.8</salesChange><salesAcc>560893800</salesAcc><audiCnt>871</audiCnt><audiInten>210</audiInten><audiChange>31.8</audiChange><audiAcc>51508</audiAcc><scrnCnt>67</scrnCnt><showCnt>73</showCnt></dailyBoxOffice><dailyBoxOffice><rnum>9</rnum><rank>9</rank><rankInten>3</rankInten><rankOldAndNew>OLD</rankOldAndNew><movieCd>20231415</movieCd><movieNm>소풍</movieNm><openDt>2024-02-07</openDt><salesAmt>5935900</salesAmt><salesShare>0.3</salesShare><salesInten>-4740000</salesInten><salesChange>-44.4</salesChange><salesAcc>2983564049</salesAcc><audiCnt>663</audiCnt><audiInten>-515</audiInten><audiChange>-43.7</audiChange><audiAcc>333330</audiAcc><scrnCnt>71</scrnCnt><showCnt>84</showCnt></dailyBoxOffice><dailyBoxOffice><rnum>10</rnum><rank>10</rank><rankInten>-6</rankInten><rankOldAndNew>OLD</rankOldAndNew><movieCd>20247437</movieCd><movieNm>브레드이발소: 셀럽 인 베이커리타운</movieNm><openDt>2024-03-01</openDt><salesAmt>4565100</salesAmt><salesShare>0.2</salesShare><salesInten>-151499450</salesInten><salesChange>-97.1</salesChange><salesAcc>1270929110</salesAcc><audiCnt>532</audiCnt><audiInten>-17879</audiInten><audiChange>-97.1</audiChange><audiAcc>147912</audiAcc><scrnCnt>112</scrnCnt><showCnt>132</showCnt></dailyBoxOffice></dailyBoxOfficeList></boxOfficeResult>\n"
          ]
        }
      ],
      "source": [
        "import requests\n",
        "from bs4 import BeautifulSoup\n",
        "\n",
        "r = requests.get('https://www.kobis.or.kr/kobisopenapi/webservice/rest/boxoffice/searchDailyBoxOfficeList.xml?key=4e3d9e79c97d5d36016f62470b57e63d&targetDt=20240311')\n",
        "print(r.text)"
      ]
    },
    {
      "cell_type": "code",
      "source": [
        "soup = BeautifulSoup(r.text, features=\"xml\")"
      ],
      "metadata": {
        "id": "7uprFM1NQx-R"
      },
      "execution_count": 3,
      "outputs": []
    },
    {
      "cell_type": "code",
      "source": [
        "soup.find_all('movieNm')"
      ],
      "metadata": {
        "id": "WthhPDP_QzLw",
        "colab": {
          "base_uri": "https://localhost:8080/"
        },
        "outputId": "3815de73-dba1-4c13-b474-533e95aa7c62"
      },
      "execution_count": 4,
      "outputs": [
        {
          "output_type": "execute_result",
          "data": {
            "text/plain": [
              "[<movieNm>파묘</movieNm>,\n",
              " <movieNm>듄: 파트2</movieNm>,\n",
              " <movieNm>가여운 것들</movieNm>,\n",
              " <movieNm>패스트 라이브즈</movieNm>,\n",
              " <movieNm>웡카</movieNm>,\n",
              " <movieNm>건국전쟁</movieNm>,\n",
              " <movieNm>귀멸의 칼날: 인연의 기적, 그리고 합동 강화 훈련으로</movieNm>,\n",
              " <movieNm>사운드 오브 프리덤</movieNm>,\n",
              " <movieNm>소풍</movieNm>,\n",
              " <movieNm>브레드이발소: 셀럽 인 베이커리타운</movieNm>]"
            ]
          },
          "metadata": {},
          "execution_count": 4
        }
      ]
    },
    {
      "cell_type": "code",
      "source": [
        "soup.find_all('audiCnt')"
      ],
      "metadata": {
        "id": "F6LY62fkQ0pg",
        "colab": {
          "base_uri": "https://localhost:8080/"
        },
        "outputId": "5e830dff-3595-44de-a495-1554d88b68ab"
      },
      "execution_count": 5,
      "outputs": [
        {
          "output_type": "execute_result",
          "data": {
            "text/plain": [
              "[<audiCnt>135263</audiCnt>,\n",
              " <audiCnt>31246</audiCnt>,\n",
              " <audiCnt>6890</audiCnt>,\n",
              " <audiCnt>5680</audiCnt>,\n",
              " <audiCnt>4535</audiCnt>,\n",
              " <audiCnt>3401</audiCnt>,\n",
              " <audiCnt>1212</audiCnt>,\n",
              " <audiCnt>871</audiCnt>,\n",
              " <audiCnt>663</audiCnt>,\n",
              " <audiCnt>532</audiCnt>]"
            ]
          },
          "metadata": {},
          "execution_count": 5
        }
      ]
    }
  ]
}