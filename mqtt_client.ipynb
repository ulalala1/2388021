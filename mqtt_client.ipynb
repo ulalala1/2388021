{
  "nbformat": 4,
  "nbformat_minor": 0,
  "metadata": {
    "colab": {
      "provenance": [],
      "include_colab_link": true
    },
    "kernelspec": {
      "name": "python3",
      "display_name": "Python 3"
    },
    "language_info": {
      "name": "python"
    }
  },
  "cells": [
    {
      "cell_type": "markdown",
      "metadata": {
        "id": "view-in-github",
        "colab_type": "text"
      },
      "source": [
        "<a href=\"https://colab.research.google.com/github/ulalala1/2388021/blob/main/mqtt_client.ipynb\" target=\"_parent\"><img src=\"https://colab.research.google.com/assets/colab-badge.svg\" alt=\"Open In Colab\"/></a>"
      ]
    },
    {
      "cell_type": "code",
      "source": [
        "!pip install paho-mqtt"
      ],
      "metadata": {
        "id": "_Qt6P5eYMkz6",
        "outputId": "538dad5c-a923-40e1-c9ad-59ed6cd7a000",
        "colab": {
          "base_uri": "https://localhost:8080/"
        }
      },
      "execution_count": null,
      "outputs": [
        {
          "output_type": "stream",
          "name": "stdout",
          "text": [
            "Collecting paho-mqtt\n",
            "  Downloading paho_mqtt-2.0.0-py3-none-any.whl (66 kB)\n",
            "\u001b[2K     \u001b[90m━━━━━━━━━━━━━━━━━━━━━━━━━━━━━━━━━━━━━━━━\u001b[0m \u001b[32m66.9/66.9 kB\u001b[0m \u001b[31m924.2 kB/s\u001b[0m eta \u001b[36m0:00:00\u001b[0m\n",
            "\u001b[?25hInstalling collected packages: paho-mqtt\n",
            "Successfully installed paho-mqtt-2.0.0\n"
          ]
        }
      ]
    },
    {
      "cell_type": "code",
      "source": [
        "import paho.mqtt.client as mqtt\n",
        "\n",
        "def on_connect(client, userdata, flags, reason_code, properties):\n",
        "    print(f\"Connected with result code {reason_code}\")\n",
        "    client.subscribe(\"connectware/indoor/data/#\")\n",
        "\n",
        "def on_message(client, userdata, msg):\n",
        "    print(msg.topic, msg.payload.decode('utf8'))\n",
        "\n",
        "client = mqtt.Client(mqtt.CallbackAPIVersion.VERSION2)\n",
        "client.on_connect = on_connect\n",
        "client.on_message = on_message\n",
        "\n",
        "client.connect(\"damoa.io\", 1883, 60)\n",
        "client.loop_forever()\n"
      ],
      "metadata": {
        "colab": {
          "base_uri": "https://localhost:8080/"
        },
        "id": "hCRAn3F9JNM_",
        "outputId": "c8972c1f-b2d5-49d3-897b-4103cbb2162a"
      },
      "execution_count": null,
      "outputs": [
        {
          "output_type": "stream",
          "name": "stdout",
          "text": [
            "Connected with result code Success\n",
            "connectware/indoor/data/1503 {\"dust\":\"0,0\",\"co2\":\"985\",\"bme680\":\"35.11,29.51,320886,100582,62.13\",\"time\":\"2024-04-04 03:43:57\", \"serial\":1193, \"ip\":\"112.170.36.163\"}\n",
            "connectware/indoor/data/1501 {\"dust\":\"2,2\",\"co2\":\"921\",\"bme680\":\"33.29,30.45,456715,100564,63.55\",\"time\":\"2024-04-04 03:43:59\", \"serial\":4420, \"ip\":\"112.170.36.163\"}\n",
            "connectware/indoor/data/1502 {\"dust\":\"3,3\",\"co2\":\"829\",\"bme680\":\"36.75,26.01,780974,100618,59.03\",\"time\":\"2024-04-04 03:44:00\", \"serial\":968, \"ip\":\"112.170.36.163\"}\n",
            "connectware/indoor/data/1503 {\"dust\":\"0,0\",\"co2\":\"985\",\"bme680\":\"35.11,29.49,319944,100580,62.13\",\"time\":\"2024-04-04 03:43:58\", \"serial\":1194, \"ip\":\"112.170.36.163\"}\n",
            "connectware/indoor/data/1501 {\"dust\":\"2,2\",\"co2\":\"921\",\"bme680\":\"33.29,30.45,457648,100563,63.55\",\"time\":\"2024-04-04 03:44:00\", \"serial\":4421, \"ip\":\"112.170.36.163\"}\n",
            "connectware/indoor/data/1502 {\"dust\":\"3,3\",\"co2\":\"829\",\"bme680\":\"36.74,25.96,779144,100618,59.03\",\"time\":\"2024-04-04 03:44:01\", \"serial\":969, \"ip\":\"112.170.36.163\"}\n",
            "connectware/indoor/data/1503 {\"dust\":\"0,0\",\"co2\":\"985\",\"bme680\":\"35.11,29.44,321201,100580,62.13\",\"time\":\"2024-04-04 03:43:59\", \"serial\":1195, \"ip\":\"112.170.36.163\"}\n",
            "connectware/indoor/data/1501 {\"dust\":\"2,2\",\"co2\":\"923\",\"bme680\":\"33.29,30.44,457648,100563,63.72\",\"time\":\"2024-04-04 03:44:01\", \"serial\":4422, \"ip\":\"112.170.36.163\"}\n",
            "connectware/indoor/data/1502 {\"dust\":\"3,3\",\"co2\":\"829\",\"bme680\":\"36.73,25.89,781433,100618,59.03\",\"time\":\"2024-04-04 03:44:02\", \"serial\":970, \"ip\":\"112.170.36.163\"}\n",
            "connectware/indoor/data/1503 {\"dust\":\"0,0\",\"co2\":\"985\",\"bme680\":\"35.11,29.40,322787,100581,62.13\",\"time\":\"2024-04-04 03:44:00\", \"serial\":1196, \"ip\":\"112.170.36.163\"}\n",
            "connectware/indoor/data/1501 {\"dust\":\"2,2\",\"co2\":\"923\",\"bme680\":\"33.29,30.42,458585,100563,63.55\",\"time\":\"2024-04-04 03:44:02\", \"serial\":4423, \"ip\":\"112.170.36.163\"}\n",
            "connectware/indoor/data/1502 {\"dust\":\"2,2\",\"co2\":\"829\",\"bme680\":\"36.73,25.86,780516,100617,59.03\",\"time\":\"2024-04-04 03:44:03\", \"serial\":971, \"ip\":\"112.170.36.163\"}\n",
            "connectware/indoor/data/1503 {\"dust\":\"0,0\",\"co2\":\"985\",\"bme680\":\"35.11,29.36,321201,100580,62.21\",\"time\":\"2024-04-04 03:44:01\", \"serial\":1197, \"ip\":\"112.170.36.163\"}\n",
            "connectware/indoor/data/1501 {\"dust\":\"3,3\",\"co2\":\"923\",\"bme680\":\"33.30,30.41,458585,100563,63.55\",\"time\":\"2024-04-04 03:44:03\", \"serial\":4424, \"ip\":\"112.170.36.163\"}\n",
            "connectware/indoor/data/1502 {\"dust\":\"2,2\",\"co2\":\"829\",\"bme680\":\"36.73,25.84,783274,100618,58.95\",\"time\":\"2024-04-04 03:44:04\", \"serial\":972, \"ip\":\"112.170.36.163\"}\n",
            "connectware/indoor/data/1503 {\"dust\":\"0,0\",\"co2\":\"985\",\"bme680\":\"35.11,29.34,321834,100581,62.13\",\"time\":\"2024-04-04 03:44:02\", \"serial\":1198, \"ip\":\"112.170.36.163\"}\n",
            "connectware/indoor/data/1501 {\"dust\":\"3,3\",\"co2\":\"923\",\"bme680\":\"33.30,30.41,458585,100563,63.55\",\"time\":\"2024-04-04 03:44:04\", \"serial\":4425, \"ip\":\"112.170.36.163\"}\n",
            "connectware/indoor/data/1502 {\"dust\":\"3,3\",\"co2\":\"829\",\"bme680\":\"36.73,25.80,785123,100619,58.95\",\"time\":\"2024-04-04 03:44:05\", \"serial\":973, \"ip\":\"112.170.36.163\"}\n",
            "connectware/indoor/data/1503 {\"dust\":\"0,0\",\"co2\":\"985\",\"bme680\":\"35.11,29.31,320257,100581,62.04\",\"time\":\"2024-04-04 03:44:03\", \"serial\":1199, \"ip\":\"112.170.36.163\"}\n",
            "connectware/indoor/data/1501 {\"dust\":\"4,4\",\"co2\":\"923\",\"bme680\":\"33.30,30.40,456095,100563,63.64\",\"time\":\"2024-04-04 03:44:05\", \"serial\":4426, \"ip\":\"112.170.36.163\"}\n",
            "connectware/indoor/data/1502 {\"dust\":\"2,2\",\"co2\":\"829\",\"bme680\":\"36.73,25.79,783274,100619,59.03\",\"time\":\"2024-04-04 03:44:06\", \"serial\":974, \"ip\":\"112.170.36.163\"}\n",
            "connectware/indoor/data/1503 {\"dust\":\"2,2\",\"co2\":\"985\",\"bme680\":\"35.10,29.27,321834,100582,62.04\",\"time\":\"2024-04-04 03:44:04\", \"serial\":1200, \"ip\":\"112.170.36.163\"}\n",
            "connectware/indoor/data/1501 {\"dust\":\"3,3\",\"co2\":\"924\",\"bme680\":\"33.30,30.40,458898,100563,63.64\",\"time\":\"2024-04-04 03:44:06\", \"serial\":4427, \"ip\":\"112.170.36.163\"}\n",
            "connectware/indoor/data/1502 {\"dust\":\"2,2\",\"co2\":\"829\",\"bme680\":\"36.72,25.78,774606,100618,59.03\",\"time\":\"2024-04-04 03:44:07\", \"serial\":975, \"ip\":\"112.170.36.163\"}\n",
            "connectware/indoor/data/1503 {\"dust\":\"2,2\",\"co2\":\"985\",\"bme680\":\"35.10,29.24,320571,100582,62.04\",\"time\":\"2024-04-04 03:44:05\", \"serial\":1201, \"ip\":\"112.170.36.163\"}\n",
            "connectware/indoor/data/1501 {\"dust\":\"3,3\",\"co2\":\"924\",\"bme680\":\"33.30,30.39,460787,100562,63.64\",\"time\":\"2024-04-04 03:44:07\", \"serial\":4428, \"ip\":\"112.170.36.163\"}\n",
            "connectware/indoor/data/1502 {\"dust\":\"2,2\",\"co2\":\"829\",\"bme680\":\"36.72,25.76,786052,100618,59.03\",\"time\":\"2024-04-04 03:44:08\", \"serial\":976, \"ip\":\"112.170.36.163\"}\n",
            "connectware/indoor/data/1503 {\"dust\":\"2,2\",\"co2\":\"985\",\"bme680\":\"35.10,29.21,320886,100582,62.04\",\"time\":\"2024-04-04 03:44:06\", \"serial\":1202, \"ip\":\"112.170.36.163\"}\n",
            "connectware/indoor/data/1501 {\"dust\":\"3,3\",\"co2\":\"924\",\"bme680\":\"33.30,30.38,458585,100562,63.55\",\"time\":\"2024-04-04 03:44:08\", \"serial\":4429, \"ip\":\"112.170.36.163\"}\n",
            "connectware/indoor/data/1502 {\"dust\":\"2,2\",\"co2\":\"829\",\"bme680\":\"36.72,25.75,786516,100618,59.03\",\"time\":\"2024-04-04 03:44:09\", \"serial\":977, \"ip\":\"112.170.36.163\"}\n",
            "connectware/indoor/data/1503 {\"dust\":\"2,2\",\"co2\":\"985\",\"bme680\":\"35.10,29.17,321834,100582,62.04\",\"time\":\"2024-04-04 03:44:07\", \"serial\":1203, \"ip\":\"112.170.36.163\"}\n",
            "connectware/indoor/data/1501 {\"dust\":\"3,3\",\"co2\":\"924\",\"bme680\":\"33.30,30.37,457025,100563,63.55\",\"time\":\"2024-04-04 03:44:09\", \"serial\":4430, \"ip\":\"112.170.36.163\"}\n",
            "connectware/indoor/data/1502 {\"dust\":\"3,3\",\"co2\":\"829\",\"bme680\":\"36.73,25.74,781893,100618,58.95\",\"time\":\"2024-04-04 03:44:10\", \"serial\":978, \"ip\":\"112.170.36.163\"}\n",
            "connectware/indoor/data/1503 {\"dust\":\"2,2\",\"co2\":\"985\",\"bme680\":\"35.10,29.16,322787,100581,62.04\",\"time\":\"2024-04-04 03:44:08\", \"serial\":1204, \"ip\":\"112.170.36.163\"}\n",
            "connectware/indoor/data/1501 {\"dust\":\"3,3\",\"co2\":\"924\",\"bme680\":\"33.30,30.37,458585,100563,63.55\",\"time\":\"2024-04-04 03:44:10\", \"serial\":4431, \"ip\":\"112.170.36.163\"}\n",
            "connectware/indoor/data/1502 {\"dust\":\"3,3\",\"co2\":\"829\",\"bme680\":\"36.72,25.72,783274,100618,58.95\",\"time\":\"2024-04-04 03:44:11\", \"serial\":979, \"ip\":\"112.170.36.163\"}\n",
            "connectware/indoor/data/1503 {\"dust\":\"2,2\",\"co2\":\"985\",\"bme680\":\"35.10,29.13,321517,100581,62.04\",\"time\":\"2024-04-04 03:44:09\", \"serial\":1205, \"ip\":\"112.170.36.163\"}\n",
            "connectware/indoor/data/1501 {\"dust\":\"3,3\",\"co2\":\"925\",\"bme680\":\"33.30,30.36,458585,100563,63.55\",\"time\":\"2024-04-04 03:44:11\", \"serial\":4432, \"ip\":\"112.170.36.163\"}\n",
            "connectware/indoor/data/1502 {\"dust\":\"3,3\",\"co2\":\"829\",\"bme680\":\"36.72,25.71,789786,100618,58.95\",\"time\":\"2024-04-04 03:44:12\", \"serial\":980, \"ip\":\"112.170.36.163\"}\n",
            "connectware/indoor/data/1503 {\"dust\":\"2,2\",\"co2\":\"985\",\"bme680\":\"35.10,29.13,323426,100581,62.13\",\"time\":\"2024-04-04 03:44:10\", \"serial\":1206, \"ip\":\"112.170.36.163\"}\n",
            "connectware/indoor/data/1501 {\"dust\":\"4,4\",\"co2\":\"925\",\"bme680\":\"33.30,30.35,460471,100564,63.55\",\"time\":\"2024-04-04 03:44:12\", \"serial\":4433, \"ip\":\"112.170.36.163\"}\n",
            "connectware/indoor/data/1502 {\"dust\":\"3,3\",\"co2\":\"829\",\"bme680\":\"36.72,25.69,782353,100618,59.03\",\"time\":\"2024-04-04 03:44:13\", \"serial\":981, \"ip\":\"112.170.36.163\"}\n",
            "connectware/indoor/data/1503 {\"dust\":\"3,3\",\"co2\":\"985\",\"bme680\":\"35.10,29.10,322469,100581,62.04\",\"time\":\"2024-04-04 03:44:11\", \"serial\":1207, \"ip\":\"112.170.36.163\"}\n",
            "connectware/indoor/data/1501 {\"dust\":\"4,4\",\"co2\":\"925\",\"bme680\":\"33.30,30.35,461103,100563,63.55\",\"time\":\"2024-04-04 03:44:13\", \"serial\":4434, \"ip\":\"112.170.36.163\"}\n",
            "connectware/indoor/data/1502 {\"dust\":\"3,3\",\"co2\":\"829\",\"bme680\":\"36.72,25.68,781433,100618,58.95\",\"time\":\"2024-04-04 03:44:14\", \"serial\":982, \"ip\":\"112.170.36.163\"}\n",
            "connectware/indoor/data/1503 {\"dust\":\"3,3\",\"co2\":\"985\",\"bme680\":\"35.10,29.11,322469,100581,62.13\",\"time\":\"2024-04-04 03:44:12\", \"serial\":1208, \"ip\":\"112.170.36.163\"}\n"
          ]
        }
      ]
    },
    {
      "cell_type": "code",
      "source": [],
      "metadata": {
        "id": "4bb1cR6yJQTp"
      },
      "execution_count": null,
      "outputs": []
    }
  ]
}