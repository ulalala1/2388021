{
  "nbformat": 4,
  "nbformat_minor": 0,
  "metadata": {
    "colab": {
      "provenance": [],
      "authorship_tag": "ABX9TyP+XKclp7/8N+YXfyrlDLLy",
      "include_colab_link": true
    },
    "kernelspec": {
      "name": "python3",
      "display_name": "Python 3"
    },
    "language_info": {
      "name": "python"
    }
  },
  "cells": [
    {
      "cell_type": "markdown",
      "metadata": {
        "id": "view-in-github",
        "colab_type": "text"
      },
      "source": [
        "<a href=\"https://colab.research.google.com/github/ulalala1/2388021/blob/main/0321%20%EA%B3%BC%EC%A0%9C(1).ipynb\" target=\"_parent\"><img src=\"https://colab.research.google.com/assets/colab-badge.svg\" alt=\"Open In Colab\"/></a>"
      ]
    },
    {
      "cell_type": "code",
      "execution_count": 9,
      "metadata": {
        "id": "gt0vHrp_VJFE"
      },
      "outputs": [],
      "source": [
        "a = {\"rentBikeStatus\":{\"list_total_count\":5,\"RESULT\":{\"CODE\":\"INFO-000\",\"MESSAGE\":\"정상 처리되었습니다.\"},\"row\":[{\"rackTotCnt\":\"15\",\"stationName\":\"102. 망원역 1번출구 앞\",\"parkingBikeTotCnt\":\"27\",\"shared\":\"180\",\"stationLatitude\":\"37.55564880\",\"stationLongitude\":\"126.91062927\",\"stationId\":\"ST-4\"},{\"rackTotCnt\":\"14\",\"stationName\":\"103. 망원역 2번출구 앞\",\"parkingBikeTotCnt\":\"27\",\"shared\":\"193\",\"stationLatitude\":\"37.55495071\",\"stationLongitude\":\"126.91083527\",\"stationId\":\"ST-5\"},{\"rackTotCnt\":\"13\",\"stationName\":\"104. 합정역 1번출구 앞\",\"parkingBikeTotCnt\":\"15\",\"shared\":\"115\",\"stationLatitude\":\"37.55073929\",\"stationLongitude\":\"126.91508484\",\"stationId\":\"ST-6\"},{\"rackTotCnt\":\"5\",\"stationName\":\"105. 합정역 5번출구 앞\",\"parkingBikeTotCnt\":\"17\",\"shared\":\"340\",\"stationLatitude\":\"37.55000687\",\"stationLongitude\":\"126.91482544\",\"stationId\":\"ST-7\"},{\"rackTotCnt\":\"12\",\"stationName\":\"106. 합정역 7번출구 앞\",\"parkingBikeTotCnt\":\"4\",\"shared\":\"33\",\"stationLatitude\":\"37.54864502\",\"stationLongitude\":\"126.91282654\",\"stationId\":\"ST-8\"}]}}"
      ]
    },
    {
      "cell_type": "code",
      "source": [
        "for x in a['rentBikeStatus']['row'] :\n",
        "  print('대여건수 :', x['shared'],'대여소명 :',x['stationName'])"
      ],
      "metadata": {
        "colab": {
          "base_uri": "https://localhost:8080/"
        },
        "id": "ttcj_2o7VM81",
        "outputId": "3defffa5-6419-4514-fb1c-d01946541308"
      },
      "execution_count": 10,
      "outputs": [
        {
          "output_type": "stream",
          "name": "stdout",
          "text": [
            "대여건수 : 180 대여소명 : 102. 망원역 1번출구 앞\n",
            "대여건수 : 193 대여소명 : 103. 망원역 2번출구 앞\n",
            "대여건수 : 115 대여소명 : 104. 합정역 1번출구 앞\n",
            "대여건수 : 340 대여소명 : 105. 합정역 5번출구 앞\n",
            "대여건수 : 33 대여소명 : 106. 합정역 7번출구 앞\n"
          ]
        }
      ]
    }
  ]
}